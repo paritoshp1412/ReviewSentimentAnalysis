{
 "cells": [
  {
   "cell_type": "code",
   "execution_count": 1,
   "metadata": {
    "collapsed": true
   },
   "outputs": [],
   "source": [
    "%reload_ext autoreload\n",
    "%autoreload 2\n",
    "%matplotlib inline"
   ]
  },
  {
   "cell_type": "code",
   "execution_count": 2,
   "metadata": {
    "collapsed": true
   },
   "outputs": [],
   "source": [
    "from fastai.text import *\n",
    "import fastai\n",
    "from fastai import *"
   ]
  },
  {
   "cell_type": "code",
   "execution_count": 3,
   "metadata": {
    "collapsed": true
   },
   "outputs": [],
   "source": [
    "import pandas as pd\n",
    "import pickle\n",
    "\n",
    "import os\n",
    "import googletrans"
   ]
  },
  {
   "cell_type": "code",
   "execution_count": 4,
   "metadata": {
    "collapsed": true
   },
   "outputs": [],
   "source": [
    "get_ipython().config.get('IPKernelApp', {})['parent_appname'] = \"\""
   ]
  },
  {
   "cell_type": "code",
   "execution_count": 5,
   "metadata": {
    "collapsed": true
   },
   "outputs": [],
   "source": [
    "neg_data = pickle.load(open(\"neg_translated.pickle\",\"rb\"))\n",
    "neg_data[\"Target\"] = \"negative\"\n",
    "\n",
    "pos_data = pickle.load(open(\"pos_translated.pickle\",\"rb\"))\n",
    "pos_data[\"Target\"] = \"positive\"\n",
    "\n",
    "test_data = pickle.load(open(\"test_translated.pickle\",\"rb\"))\n",
    "test_data[\"Target\"] = \"none\""
   ]
  },
  {
   "cell_type": "code",
   "execution_count": 6,
   "metadata": {},
   "outputs": [
    {
     "data": {
      "text/plain": [
       "Index(['author', 'country', 'crawled', 'domain_rank', 'entities_locations',\n",
       "       'entities_organizations', 'entities_persons', 'external_links',\n",
       "       'highlightText', 'highlightTitle', 'language', 'locations',\n",
       "       'main_image', 'ord_in_thread', 'organizations', 'participants_count',\n",
       "       'performance_score', 'persons', 'published', 'replies_count',\n",
       "       'section_title', 'site', 'site_full', 'site_section', 'site_type',\n",
       "       'social_facebook_comments', 'social_facebook_likes',\n",
       "       'social_facebook_shares', 'social_gplus_shares',\n",
       "       'social_linkedin_shares', 'social_pinterest_shares',\n",
       "       'social_stumbledupon_shares', 'social_vk_shares', 'spam_score', 'title',\n",
       "       'title_full', 'url', 'uuid', 'lang', 'Translated_text', 'Target'],\n",
       "      dtype='object')"
      ]
     },
     "execution_count": 6,
     "metadata": {},
     "output_type": "execute_result"
    }
   ],
   "source": [
    "pos_data.columns"
   ]
  },
  {
   "cell_type": "code",
   "execution_count": 7,
   "metadata": {
    "collapsed": true
   },
   "outputs": [],
   "source": [
    "comp_data = pd.concat([neg_data, pos_data, test_data], axis=0)\n",
    "comp_data_class = pd.concat([neg_data, pos_data], axis=0)\n",
    "\n",
    "comp_data = comp_data.rename(columns={\"Translated_text\":\"text\"})\n",
    "comp_data_class = comp_data_class.rename(columns={\"Translated_text\":\"text\"})\n",
    "\n",
    "only_one_no_value = []\n",
    "for col in comp_data.columns:\n",
    "    try:\n",
    "        #print(col,neg_data[col].nunique())\n",
    "        if comp_data[col].nunique()==1:\n",
    "            only_one_no_value.append(col)\n",
    "    except:\n",
    "        only_one_no_value.append(col)"
   ]
  },
  {
   "cell_type": "code",
   "execution_count": 8,
   "metadata": {
    "collapsed": true
   },
   "outputs": [],
   "source": [
    "comp_data[\"review_site\"] = comp_data.section_title.map(lambda x: x.split(\"|\")[0])\n",
    "comp_data[\"published\"] = pd.to_datetime(comp_data[\"published\"], utc=True)\n",
    "\n",
    "comp_data[\"published_year\"] = comp_data[\"published\"].dt.year \n",
    "comp_data[\"published_month\"] = comp_data[\"published\"].dt.month \n",
    "comp_data[\"published_day\"] = comp_data[\"published\"].dt.day "
   ]
  },
  {
   "cell_type": "code",
   "execution_count": 9,
   "metadata": {
    "collapsed": true
   },
   "outputs": [],
   "source": [
    "comp_data_class[\"review_site\"] = comp_data_class.section_title.map(lambda x: x.split(\"|\")[0])\n",
    "comp_data_class[\"published\"] = pd.to_datetime(comp_data_class[\"published\"], utc=True)\n",
    "\n",
    "comp_data_class[\"published_year\"] = comp_data_class[\"published\"].dt.year \n",
    "comp_data_class[\"published_month\"] = comp_data_class[\"published\"].dt.month \n",
    "comp_data_class[\"published_day\"] = comp_data_class[\"published\"].dt.day "
   ]
  },
  {
   "cell_type": "code",
   "execution_count": 10,
   "metadata": {
    "collapsed": true
   },
   "outputs": [],
   "source": [
    "other_col_to_drop = ['crawled', 'section_title','site_full','site_section',\n",
    "                     'title','title_full', 'url', 'uuid','published','lang']\n",
    "comp_data = comp_data.drop(only_one_no_value+other_col_to_drop,axis=1)"
   ]
  },
  {
   "cell_type": "code",
   "execution_count": 11,
   "metadata": {
    "collapsed": true
   },
   "outputs": [],
   "source": [
    "comp_data_class = comp_data_class.drop(only_one_no_value+other_col_to_drop,axis=1)"
   ]
  },
  {
   "cell_type": "code",
   "execution_count": 12,
   "metadata": {},
   "outputs": [
    {
     "data": {
      "text/plain": [
       "Index(['author', 'country', 'spam_score', 'text', 'Target', 'review_site',\n",
       "       'published_year', 'published_month', 'published_day'],\n",
       "      dtype='object')"
      ]
     },
     "execution_count": 12,
     "metadata": {},
     "output_type": "execute_result"
    }
   ],
   "source": [
    "comp_data.shape\n",
    "comp_data.columns"
   ]
  },
  {
   "cell_type": "code",
   "execution_count": 13,
   "metadata": {
    "collapsed": true
   },
   "outputs": [],
   "source": [
    "from sklearn.model_selection import train_test_split\n",
    "df_trn_1, df_val_1 = train_test_split(comp_data, test_size = 0.20, random_state = 12)"
   ]
  },
  {
   "cell_type": "code",
   "execution_count": 14,
   "metadata": {
    "collapsed": true
   },
   "outputs": [],
   "source": [
    "df_trn = pd.DataFrame(columns=[\"label\",\"text\"])\n",
    "df_trn[\"label\"] = df_trn_1[\"Target\"]\n",
    "df_trn[\"text\"] = df_trn_1[\"text\"]\n",
    "df_trn[\"text\"] = df_trn[\"text\"].map(lambda x: str(x))"
   ]
  },
  {
   "cell_type": "code",
   "execution_count": 15,
   "metadata": {
    "collapsed": true
   },
   "outputs": [],
   "source": [
    "df_val = pd.DataFrame(columns=[\"label\",\"text\"])\n",
    "df_val[\"label\"] = df_val_1[\"Target\"]\n",
    "df_val[\"text\"] = df_val_1[\"text\"]\n",
    "df_val[\"text\"] = df_val[\"text\"].map(lambda x: str(x))"
   ]
  },
  {
   "cell_type": "code",
   "execution_count": 16,
   "metadata": {
    "collapsed": true
   },
   "outputs": [],
   "source": [
    "data_lm = TextLMDataBunch.from_df(path=\"\", train_df=df_trn, valid_df=df_val, bs=32)"
   ]
  },
  {
   "cell_type": "code",
   "execution_count": 17,
   "metadata": {},
   "outputs": [
    {
     "data": {
      "text/html": [
       "<table>  <col width='5%'>  <col width='95%'>  <tr>\n",
       "    <th>idx</th>\n",
       "    <th>text</th>\n",
       "  </tr>\n",
       "  <tr>\n",
       "    <th>0</th>\n",
       "    <th>xxbos xxmaj great service very friendly will use again and recommend xxbos xxmaj we had an xxmaj antarctic voyage with xxmaj poseidon xxmaj expedition ' s xxmaj sea xxmaj spirits . xxmaj it is a great voyage . xxmaj professional xxmaj expedition xxmaj team , xxmaj nice xxmaj cabin and great service . xxmaj highly xxmaj recommend , and will certainly come back for other voyage again . xxbos i</th>\n",
       "  </tr>\n",
       "  <tr>\n",
       "    <th>1</th>\n",
       "    <th>order was dealt with xxbos xxmaj great service , quick delivery . xxmaj was my first time using frames direct , will certainly use them again ! xxbos xxmaj penn xxunk 40 xxup ld left hand reel . xxmaj best price in xxup u.k. xxmaj shipping great as well , received reel 1 day after i ordered it xxbos xxmaj shipping always comes before or at the end of their</th>\n",
       "  </tr>\n",
       "  <tr>\n",
       "    <th>2</th>\n",
       "    <th>is an very professional and compassionate , my dogs did n't want to leave when i came to get them . xxmaj he walked them and made sure their needs were met . i have a very large dog and very tiny one and he was good with both xxbos xxmaj mark from selectquote : gave me a rate that was almost $ 100 cheaper than i had found for</th>\n",
       "  </tr>\n",
       "  <tr>\n",
       "    <th>3</th>\n",
       "    <th>hat acknowledged let alone i paid for a service i did n't xxmaj receive . xxmaj none the less i would do another i xxunk tour as i like their values etc . xxbos xxmaj drone stated was gps and hd camera but it was n't . xxmaj drone did n't fly straight . xxmaj contacted requesting return address and refund , did n't reply until 4th email and raised</th>\n",
       "  </tr>\n",
       "  <tr>\n",
       "    <th>4</th>\n",
       "    <th>to choose a method of shipment .. it continues to have an error xxrep 4 . xxunk ! xxbos xxmaj motorcycle xxmaj shippers is on - time and excellent . xxbos xxmaj fast response to all inquiries , and my delivery time has not been long , i was scared to first order due to reading on forums that the delivery time is really long , however , i have</th>\n",
       "  </tr>\n",
       "</table>\n"
      ],
      "text/plain": [
       "<IPython.core.display.HTML object>"
      ]
     },
     "metadata": {},
     "output_type": "display_data"
    }
   ],
   "source": [
    "data_lm.show_batch()"
   ]
  },
  {
   "cell_type": "code",
   "execution_count": 22,
   "metadata": {
    "collapsed": true
   },
   "outputs": [],
   "source": [
    "learn = language_model_learner(data_lm, pretrained_model=URLs.WT103_1, drop_mult=0.3)"
   ]
  },
  {
   "cell_type": "code",
   "execution_count": 23,
   "metadata": {},
   "outputs": [
    {
     "name": "stdout",
     "output_type": "stream",
     "text": [
      "LR Finder is complete, type {learner_name}.recorder.plot() to see the graph.\n"
     ]
    }
   ],
   "source": [
    "learn.lr_find()"
   ]
  },
  {
   "cell_type": "code",
   "execution_count": 24,
   "metadata": {},
   "outputs": [
    {
     "data": {
      "image/png": "[encoded data removed]",
      "text/plain": [
       "<Figure size 432x288 with 1 Axes>"
      ]
     },
     "metadata": {
      "needs_background": "light"
     },
     "output_type": "display_data"
    }
   ],
   "source": [
    "learn.recorder.plot(skip_end=15)"
   ]
  },
  {
   "cell_type": "code",
   "execution_count": 25,
   "metadata": {},
   "outputs": [
    {
     "data": {
      "text/html": [
       "Total time: 03:59 <p><table style='width:300px; margin-bottom:10px'>\n",
       "  <tr>\n",
       "    <th>epoch</th>\n",
       "    <th>train_loss</th>\n",
       "    <th>valid_loss</th>\n",
       "    <th>accuracy</th>\n",
       "  </tr>\n",
       "  <tr>\n",
       "    <th>1</th>\n",
       "    <th>3.945121</th>\n",
       "    <th>3.787607</th>\n",
       "    <th>0.286955</th>\n",
       "  </tr>\n",
       "</table>\n"
      ],
      "text/plain": [
       "<IPython.core.display.HTML object>"
      ]
     },
     "metadata": {},
     "output_type": "display_data"
    }
   ],
   "source": [
    "learn.fit_one_cycle(1, 1e-2, moms=(0.8,0.7))"
   ]
  },
  {
   "cell_type": "code",
   "execution_count": 26,
   "metadata": {
    "collapsed": true
   },
   "outputs": [],
   "source": [
    "learn.unfreeze()"
   ]
  },
  {
   "cell_type": "code",
   "execution_count": 27,
   "metadata": {},
   "outputs": [
    {
     "data": {
      "text/html": [
       "Total time: 33:13 <p><table style='width:300px; margin-bottom:10px'>\n",
       "  <tr>\n",
       "    <th>epoch</th>\n",
       "    <th>train_loss</th>\n",
       "    <th>valid_loss</th>\n",
       "    <th>accuracy</th>\n",
       "  </tr>\n",
       "  <tr>\n",
       "    <th>1</th>\n",
       "    <th>3.686672</th>\n",
       "    <th>3.634620</th>\n",
       "    <th>0.304618</th>\n",
       "  </tr>\n",
       "  <tr>\n",
       "    <th>2</th>\n",
       "    <th>3.594723</th>\n",
       "    <th>3.541313</th>\n",
       "    <th>0.315012</th>\n",
       "  </tr>\n",
       "  <tr>\n",
       "    <th>3</th>\n",
       "    <th>3.471835</th>\n",
       "    <th>3.479403</th>\n",
       "    <th>0.322373</th>\n",
       "  </tr>\n",
       "  <tr>\n",
       "    <th>4</th>\n",
       "    <th>3.354734</th>\n",
       "    <th>3.446886</th>\n",
       "    <th>0.326314</th>\n",
       "  </tr>\n",
       "  <tr>\n",
       "    <th>5</th>\n",
       "    <th>3.242784</th>\n",
       "    <th>3.433947</th>\n",
       "    <th>0.328901</th>\n",
       "  </tr>\n",
       "  <tr>\n",
       "    <th>6</th>\n",
       "    <th>3.153059</th>\n",
       "    <th>3.433071</th>\n",
       "    <th>0.328956</th>\n",
       "  </tr>\n",
       "  <tr>\n",
       "    <th>7</th>\n",
       "    <th>3.101402</th>\n",
       "    <th>3.436435</th>\n",
       "    <th>0.328770</th>\n",
       "  </tr>\n",
       "</table>\n"
      ],
      "text/plain": [
       "<IPython.core.display.HTML object>"
      ]
     },
     "metadata": {},
     "output_type": "display_data"
    }
   ],
   "source": [
    "learn.fit_one_cycle(7, 1e-3, moms=(0.8,0.7))"
   ]
  },
  {
   "cell_type": "code",
   "execution_count": null,
   "metadata": {
    "collapsed": true
   },
   "outputs": [],
   "source": [
    "#learn.save('fit_head')"
   ]
  },
  {
   "cell_type": "code",
   "execution_count": 29,
   "metadata": {
    "collapsed": true
   },
   "outputs": [],
   "source": [
    "#learn.save_encoder('/data1/ekta.singh/fine_tuned_enc_translated')"
   ]
  },
  {
   "cell_type": "code",
   "execution_count": 143,
   "metadata": {
    "collapsed": true
   },
   "outputs": [],
   "source": [
    "from sklearn.model_selection import train_test_split\n",
    "df_trn_class_1, df_val_class_1 = train_test_split(comp_data_class, \n",
    "                                              stratify = comp_data_class[\"Target\"], \n",
    "                                              test_size = 0.20, random_state = 12)"
   ]
  },
  {
   "cell_type": "code",
   "execution_count": 144,
   "metadata": {
    "collapsed": true
   },
   "outputs": [],
   "source": [
    "df_trn_class = pd.DataFrame(columns=[\"label\",\"text\"])\n",
    "df_trn_class[\"label\"] = df_trn_class_1[\"Target\"]\n",
    "df_trn_class[\"text\"] = df_trn_class_1[\"text\"]\n",
    "df_trn_class[\"text\"] = df_trn_class[\"text\"].map(lambda x: str(x))"
   ]
  },
  {
   "cell_type": "code",
   "execution_count": 145,
   "metadata": {
    "collapsed": true
   },
   "outputs": [],
   "source": [
    "df_val_class = pd.DataFrame(columns=[\"label\",\"text\"])\n",
    "df_val_class[\"label\"] = df_val_class_1[\"Target\"]\n",
    "df_val_class[\"text\"] = df_val_class_1[\"text\"]\n",
    "df_val_class[\"text\"] = df_val_class[\"text\"].map(lambda x: str(x))"
   ]
  },
  {
   "cell_type": "code",
   "execution_count": null,
   "metadata": {
    "collapsed": true
   },
   "outputs": [],
   "source": [
    "trn_labelcounts = df_trn_class.groupby([\"label\"]).size()\n",
    "val_labelcounts = df_val_class.groupby([\"label\"]).size()\n",
    "\n",
    "trn_label_sum = len(df_trn_class[\"label\"])\n",
    "val_label_sum = len(df_val_class[\"label\"])\n",
    "\n",
    "trn_weights = [count/trn_label_sum for count in trn_labelcounts]\n",
    "val_weights = [count/val_label_sum for count in val_labelcounts]\n",
    "trn_weights, val_weights\n",
    "\n",
    "loss_weights = torch.FloatTensor(trn_weights).cuda()"
   ]
  },
  {
   "cell_type": "code",
   "execution_count": 146,
   "metadata": {
    "collapsed": true
   },
   "outputs": [],
   "source": [
    "data_clas = TextDataBunch.from_df(path=\"\", train_df=df_trn_class, valid_df=df_val_class, bs=32, vocab = data_lm.train_ds.vocab)"
   ]
  },
  {
   "cell_type": "code",
   "execution_count": 147,
   "metadata": {},
   "outputs": [
    {
     "data": {
      "text/html": [
       "<table>  <col width='90%'>  <col width='10%'>  <tr>\n",
       "    <th>text</th>\n",
       "    <th>target</th>\n",
       "  </tr>\n",
       "  <tr>\n",
       "    <th>xxbos xxmaj cuba xxmaj xxunk \\n xxmaj january 15 - 22 , 2017 \\n xxmaj day 1 \\n  xxmaj consider xxmaj cuba : it is a chunk of the xxmaj north xxmaj american xxmaj continent which xxunk 90 miles to the southeast during the third phase of the xxunk of the super - continent xxmaj xxunk 50 million years ago . xxmaj the xxmaj island of xxmaj cuba is</th>\n",
       "    <th>positive</th>\n",
       "  </tr>\n",
       "  <tr>\n",
       "    <th>xxbos i ordered a full set of xxmaj xxunk xxmaj high xxmaj back seats for my 2009 xxmaj dodge xxmaj ram xxmaj diesel truck . i was hesitant to purchase because i could n't find a lot of reviews or further info . xxmaj the seats came in and were absolutely wonderful . i set to installing and the instructions were easy - i had no issues with installation .</th>\n",
       "    <th>positive</th>\n",
       "  </tr>\n",
       "  <tr>\n",
       "    <th>xxbos i emailed the below message to customer service and actually got a call back , which was nice . xxmaj they explained the reason for the delay and offered to send a replacement or a credit for the damaged tie . xxmaj in the end , great customer service ( thanks , xxmaj lily ! ) but i still took off a star for having to go through all</th>\n",
       "    <th>positive</th>\n",
       "  </tr>\n",
       "  <tr>\n",
       "    <th>xxbos xxup have xxup o2 xxup dsl / xxup telephone - xxup switched xxup for 4 xxup days - xxup dsl xxup ok - xxup to xxup today , xxup nobody xxup can xxup meet xxup through xxup the xxup fixed xxup network ! xxup there xxup is xxup no xxup possibility xxup by xxup mail xxup xxunk . xxup calling xxup from xxup my xxup mobile xxup radio xxup</th>\n",
       "    <th>negative</th>\n",
       "  </tr>\n",
       "  <tr>\n",
       "    <th>xxbos i was informed that a portion of my flight needs to be moved because the airline cancelled that flight . xxmaj flightnetwork emailed me that i will have to contact them if the change does not suit my schedule , so i did just that . i thought , \" that 's alright they still have plenty of time to find me another flight , i should just concentrate</th>\n",
       "    <th>negative</th>\n",
       "  </tr>\n",
       "</table>\n"
      ],
      "text/plain": [
       "<IPython.core.display.HTML object>"
      ]
     },
     "metadata": {},
     "output_type": "display_data"
    }
   ],
   "source": [
    "data_clas.show_batch()"
   ]
  },
  {
   "cell_type": "code",
   "execution_count": 148,
   "metadata": {},
   "outputs": [
    {
     "data": {
      "text/plain": [
       "(25946, 2)"
      ]
     },
     "execution_count": 148,
     "metadata": {},
     "output_type": "execute_result"
    }
   ],
   "source": [
    "df_val_class.shape"
   ]
  },
  {
   "cell_type": "code",
   "execution_count": 157,
   "metadata": {
    "collapsed": true
   },
   "outputs": [],
   "source": [
    "learn = text_classifier_learner(data_clas, drop_mult=0.5, bptt=70)\n",
    "learn.load_encoder('/data1/user/fine_tuned_enc_translated')\n",
    "learn.freeze()"
   ]
  },
  {
   "cell_type": "code",
   "execution_count": 36,
   "metadata": {
    "collapsed": true
   },
   "outputs": [],
   "source": [
    "#learn.crit = partial(F.cross_entropy, weight=loss_weights) "
   ]
  },
  {
   "cell_type": "code",
   "execution_count": 122,
   "metadata": {},
   "outputs": [
    {
     "name": "stdout",
     "output_type": "stream",
     "text": [
      "LR Finder is complete, type {learner_name}.recorder.plot() to see the graph.\n"
     ]
    }
   ],
   "source": [
    "learn.lr_find()"
   ]
  },
  {
   "cell_type": "code",
   "execution_count": 123,
   "metadata": {},
   "outputs": [
    {
     "data": {
      "image/png": "[encoded data removed]",
      "text/plain": [
       "<Figure size 432x288 with 1 Axes>"
      ]
     },
     "metadata": {
      "needs_background": "light"
     },
     "output_type": "display_data"
    }
   ],
   "source": [
    "learn.recorder.plot()"
   ]
  },
  {
   "cell_type": "code",
   "execution_count": 124,
   "metadata": {},
   "outputs": [
    {
     "data": {
      "text/html": [
       "Total time: 10:11 <p><table style='width:300px; margin-bottom:10px'>\n",
       "  <tr>\n",
       "    <th>epoch</th>\n",
       "    <th>train_loss</th>\n",
       "    <th>valid_loss</th>\n",
       "    <th>accuracy</th>\n",
       "  </tr>\n",
       "  <tr>\n",
       "    <th>1</th>\n",
       "    <th>0.091521</th>\n",
       "    <th>0.080139</th>\n",
       "    <th>0.923077</th>\n",
       "  </tr>\n",
       "</table>\n"
      ],
      "text/plain": [
       "<IPython.core.display.HTML object>"
      ]
     },
     "metadata": {},
     "output_type": "display_data"
    }
   ],
   "source": [
    "learn.fit_one_cycle(1, 2e-6, moms=(0.8,0.7))"
   ]
  },
  {
   "cell_type": "code",
   "execution_count": 127,
   "metadata": {},
   "outputs": [
    {
     "data": {
      "text/html": [
       "Total time: 10:03 <p><table style='width:300px; margin-bottom:10px'>\n",
       "  <tr>\n",
       "    <th>epoch</th>\n",
       "    <th>train_loss</th>\n",
       "    <th>valid_loss</th>\n",
       "    <th>accuracy</th>\n",
       "  </tr>\n",
       "  <tr>\n",
       "    <th>1</th>\n",
       "    <th>0.076438</th>\n",
       "    <th>0.033257</th>\n",
       "    <th>1.000000</th>\n",
       "  </tr>\n",
       "</table>\n"
      ],
      "text/plain": [
       "<IPython.core.display.HTML object>"
      ]
     },
     "metadata": {},
     "output_type": "display_data"
    }
   ],
   "source": [
    "learn.freeze_to(-2)\n",
    "learn.fit_one_cycle(1, slice(1e-2/(2.6**4),1e-2), moms=(0.8,0.7))"
   ]
  },
  {
   "cell_type": "code",
   "execution_count": 41,
   "metadata": {},
   "outputs": [
    {
     "data": {
      "text/html": [
       "Total time: 07:23 <p><table style='width:300px; margin-bottom:10px'>\n",
       "  <tr>\n",
       "    <th>epoch</th>\n",
       "    <th>train_loss</th>\n",
       "    <th>valid_loss</th>\n",
       "    <th>accuracy</th>\n",
       "  </tr>\n",
       "  <tr>\n",
       "    <th>1</th>\n",
       "    <th>0.107972</th>\n",
       "    <th>0.060860</th>\n",
       "    <th>0.979496</th>\n",
       "  </tr>\n",
       "</table>\n"
      ],
      "text/plain": [
       "<IPython.core.display.HTML object>"
      ]
     },
     "metadata": {},
     "output_type": "display_data"
    }
   ],
   "source": [
    "learn.freeze_to(-3)\n",
    "learn.fit_one_cycle(1, slice(5e-3/(2.6**4),5e-3), moms=(0.8,0.7))"
   ]
  },
  {
   "cell_type": "code",
   "execution_count": 42,
   "metadata": {},
   "outputs": [
    {
     "data": {
      "text/html": [
       "Total time: 18:11 <p><table style='width:300px; margin-bottom:10px'>\n",
       "  <tr>\n",
       "    <th>epoch</th>\n",
       "    <th>train_loss</th>\n",
       "    <th>valid_loss</th>\n",
       "    <th>accuracy</th>\n",
       "  </tr>\n",
       "  <tr>\n",
       "    <th>1</th>\n",
       "    <th>0.065314</th>\n",
       "    <th>0.056926</th>\n",
       "    <th>0.980806</th>\n",
       "  </tr>\n",
       "  <tr>\n",
       "    <th>2</th>\n",
       "    <th>0.055844</th>\n",
       "    <th>0.055005</th>\n",
       "    <th>0.981693</th>\n",
       "  </tr>\n",
       "</table>\n"
      ],
      "text/plain": [
       "<IPython.core.display.HTML object>"
      ]
     },
     "metadata": {},
     "output_type": "display_data"
    }
   ],
   "source": [
    "learn.unfreeze()\n",
    "learn.fit_one_cycle(2, slice(1e-3/(2.6**4),1e-3), moms=(0.8,0.7))"
   ]
  },
  {
   "cell_type": "code",
   "execution_count": 50,
   "metadata": {},
   "outputs": [
    {
     "data": {
      "text/html": [
       "Total time: 08:35 <p><table style='width:300px; margin-bottom:10px'>\n",
       "  <tr>\n",
       "    <th>epoch</th>\n",
       "    <th>train_loss</th>\n",
       "    <th>valid_loss</th>\n",
       "    <th>accuracy</th>\n",
       "  </tr>\n",
       "  <tr>\n",
       "    <th>1</th>\n",
       "    <th>0.062573</th>\n",
       "    <th>0.056284</th>\n",
       "    <th>0.981924</th>\n",
       "  </tr>\n",
       "</table>\n"
      ],
      "text/plain": [
       "<IPython.core.display.HTML object>"
      ]
     },
     "metadata": {},
     "output_type": "display_data"
    }
   ],
   "source": [
    "learn.fit_one_cycle(1, slice(1e-3/(2.6**4),1e-3), moms=(0.8,0.7))"
   ]
  },
  {
   "cell_type": "code",
   "execution_count": 49,
   "metadata": {
    "collapsed": true
   },
   "outputs": [],
   "source": [
    "#learn.save('/data1/user/fit_class_1')"
   ]
  },
  {
   "cell_type": "code",
   "execution_count": 158,
   "metadata": {},
   "outputs": [
    {
     "data": {
      "text/plain": [
       "RNNLearner(data=TextClasDataBunch;\n",
       "\n",
       "Train: LabelList\n",
       "y: CategoryList (103780 items)\n",
       "[Category positive, Category positive, Category positive, Category positive, Category positive]...\n",
       "Path: .\n",
       "x: TextList (103780 items)\n",
       "[Text xxbos xxmaj excellent service i ordered the part one day and it arrived the next . xxmaj exactly as discribed on the website and a perfect fit . xxmaj the part was very well packed so arrived in new condition . i will use this company again ., Text xxbos xxmaj no problems so far , fast shipping, Text xxbos xxmaj great prices for really good quality items !, Text xxbos xxmaj easy to work with from beginning to end ., Text xxbos xxmaj been waiting for a better price to start a online business i hope i made the right choice and i would recommend this site to every one ❤ it]...\n",
       "Path: .;\n",
       "\n",
       "Valid: LabelList\n",
       "y: CategoryList (25946 items)\n",
       "[Category positive, Category positive, Category positive, Category negative, Category positive]...\n",
       "Path: .\n",
       "x: TextList (25946 items)\n",
       "[Text xxbos xxmaj very pleased with the products, Text xxbos xxmaj tried a few other sites to get invitations printed for my daughter 's 21st birthday , but found xxmaj papa xxmaj divas had the best range . \n",
       " xxmaj after placing my order received the invitations within a few days and very happy with the invitations and the way they were packaged ., Text xxbos xxmaj service has been great and useful ., Text xxbos i am trying to log into my car insurance account since last evening . i sent a message , i tried live chat no luck . \n",
       " when i fill in all the details the box does not move to let you log the details \n",
       " xxmaj my husband also tried . xxmaj at this stage we have spent hours at this no luck . \n",
       " a guy rang me this am and said he would make the changes for me for a fee of 10 euro ? ? ? \n",
       " i said i will try again on line . xxmaj xxunk he rang me at xxunk i am online trying to log in .. xxmaj no xxmaj luck . \n",
       " xxmaj what kind of a service would you call this .. xxmaj it does not even deserve a star . \n",
       " xxmaj but to write this review i had to give it a 1 star . \n",
       " i will never insure with this company again . \n",
       " xxmaj helen xxmaj xxunk, Text xxbos xxmaj quick fast and easy !]...\n",
       "Path: .;\n",
       "\n",
       "Test: None, model=SequentialRNN(\n",
       "  (0): MultiBatchRNNCore(\n",
       "    (encoder): Embedding(19022, 400, padding_idx=1)\n",
       "    (encoder_dp): EmbeddingDropout(\n",
       "      (emb): Embedding(19022, 400, padding_idx=1)\n",
       "    )\n",
       "    (rnns): ModuleList(\n",
       "      (0): WeightDropout(\n",
       "        (module): LSTM(400, 1150, batch_first=True)\n",
       "      )\n",
       "      (1): WeightDropout(\n",
       "        (module): LSTM(1150, 1150, batch_first=True)\n",
       "      )\n",
       "      (2): WeightDropout(\n",
       "        (module): LSTM(1150, 400, batch_first=True)\n",
       "      )\n",
       "    )\n",
       "    (input_dp): RNNDropout()\n",
       "    (hidden_dps): ModuleList(\n",
       "      (0): RNNDropout()\n",
       "      (1): RNNDropout()\n",
       "      (2): RNNDropout()\n",
       "    )\n",
       "  )\n",
       "  (1): PoolingLinearClassifier(\n",
       "    (layers): Sequential(\n",
       "      (0): BatchNorm1d(1200, eps=1e-05, momentum=0.1, affine=True, track_running_stats=True)\n",
       "      (1): Dropout(p=0.2)\n",
       "      (2): Linear(in_features=1200, out_features=50, bias=True)\n",
       "      (3): ReLU(inplace)\n",
       "      (4): BatchNorm1d(50, eps=1e-05, momentum=0.1, affine=True, track_running_stats=True)\n",
       "      (5): Dropout(p=0.1)\n",
       "      (6): Linear(in_features=50, out_features=2, bias=True)\n",
       "    )\n",
       "  )\n",
       "), opt_func=functools.partial(<class 'torch.optim.adam.Adam'>, betas=(0.9, 0.99)), loss_func=<fastai.layers.FlattenedLoss object at 0x7f4a152a5630>, metrics=[<function accuracy at 0x7f4a4ac3b510>], true_wd=True, bn_wd=True, wd=0.01, train_bn=True, path=PosixPath('.'), model_dir='models', callback_fns=[<class 'fastai.basic_train.Recorder'>], callbacks=[RNNTrainer(learn=RNNLearner(data=TextClasDataBunch;\n",
       "\n",
       "Train: LabelList\n",
       "y: CategoryList (103780 items)\n",
       "[Category positive, Category positive, Category positive, Category positive, Category positive]...\n",
       "Path: .\n",
       "x: TextList (103780 items)\n",
       "[Text xxbos xxmaj excellent service i ordered the part one day and it arrived the next . xxmaj exactly as discribed on the website and a perfect fit . xxmaj the part was very well packed so arrived in new condition . i will use this company again ., Text xxbos xxmaj no problems so far , fast shipping, Text xxbos xxmaj great prices for really good quality items !, Text xxbos xxmaj easy to work with from beginning to end ., Text xxbos xxmaj been waiting for a better price to start a online business i hope i made the right choice and i would recommend this site to every one ❤ it]...\n",
       "Path: .;\n",
       "\n",
       "Valid: LabelList\n",
       "y: CategoryList (25946 items)\n",
       "[Category positive, Category positive, Category positive, Category negative, Category positive]...\n",
       "Path: .\n",
       "x: TextList (25946 items)\n",
       "[Text xxbos xxmaj very pleased with the products, Text xxbos xxmaj tried a few other sites to get invitations printed for my daughter 's 21st birthday , but found xxmaj papa xxmaj divas had the best range . \n",
       " xxmaj after placing my order received the invitations within a few days and very happy with the invitations and the way they were packaged ., Text xxbos xxmaj service has been great and useful ., Text xxbos i am trying to log into my car insurance account since last evening . i sent a message , i tried live chat no luck . \n",
       " when i fill in all the details the box does not move to let you log the details \n",
       " xxmaj my husband also tried . xxmaj at this stage we have spent hours at this no luck . \n",
       " a guy rang me this am and said he would make the changes for me for a fee of 10 euro ? ? ? \n",
       " i said i will try again on line . xxmaj xxunk he rang me at xxunk i am online trying to log in .. xxmaj no xxmaj luck . \n",
       " xxmaj what kind of a service would you call this .. xxmaj it does not even deserve a star . \n",
       " xxmaj but to write this review i had to give it a 1 star . \n",
       " i will never insure with this company again . \n",
       " xxmaj helen xxmaj xxunk, Text xxbos xxmaj quick fast and easy !]...\n",
       "Path: .;\n",
       "\n",
       "Test: None, model=SequentialRNN(\n",
       "  (0): MultiBatchRNNCore(\n",
       "    (encoder): Embedding(19022, 400, padding_idx=1)\n",
       "    (encoder_dp): EmbeddingDropout(\n",
       "      (emb): Embedding(19022, 400, padding_idx=1)\n",
       "    )\n",
       "    (rnns): ModuleList(\n",
       "      (0): WeightDropout(\n",
       "        (module): LSTM(400, 1150, batch_first=True)\n",
       "      )\n",
       "      (1): WeightDropout(\n",
       "        (module): LSTM(1150, 1150, batch_first=True)\n",
       "      )\n",
       "      (2): WeightDropout(\n",
       "        (module): LSTM(1150, 400, batch_first=True)\n",
       "      )\n",
       "    )\n",
       "    (input_dp): RNNDropout()\n",
       "    (hidden_dps): ModuleList(\n",
       "      (0): RNNDropout()\n",
       "      (1): RNNDropout()\n",
       "      (2): RNNDropout()\n",
       "    )\n",
       "  )\n",
       "  (1): PoolingLinearClassifier(\n",
       "    (layers): Sequential(\n",
       "      (0): BatchNorm1d(1200, eps=1e-05, momentum=0.1, affine=True, track_running_stats=True)\n",
       "      (1): Dropout(p=0.2)\n",
       "      (2): Linear(in_features=1200, out_features=50, bias=True)\n",
       "      (3): ReLU(inplace)\n",
       "      (4): BatchNorm1d(50, eps=1e-05, momentum=0.1, affine=True, track_running_stats=True)\n",
       "      (5): Dropout(p=0.1)\n",
       "      (6): Linear(in_features=50, out_features=2, bias=True)\n",
       "    )\n",
       "  )\n",
       "), opt_func=functools.partial(<class 'torch.optim.adam.Adam'>, betas=(0.9, 0.99)), loss_func=<fastai.layers.FlattenedLoss object at 0x7f4a152a5630>, metrics=[<function accuracy at 0x7f4a4ac3b510>], true_wd=True, bn_wd=True, wd=0.01, train_bn=True, path=PosixPath('.'), model_dir='models', callback_fns=[<class 'fastai.basic_train.Recorder'>], callbacks=[...], layer_groups=[Sequential(\n",
       "  (0): Embedding(19022, 400, padding_idx=1)\n",
       "  (1): EmbeddingDropout(\n",
       "    (emb): Embedding(19022, 400, padding_idx=1)\n",
       "  )\n",
       "), Sequential(\n",
       "  (0): WeightDropout(\n",
       "    (module): LSTM(400, 1150, batch_first=True)\n",
       "  )\n",
       "  (1): RNNDropout()\n",
       "), Sequential(\n",
       "  (0): WeightDropout(\n",
       "    (module): LSTM(1150, 1150, batch_first=True)\n",
       "  )\n",
       "  (1): RNNDropout()\n",
       "), Sequential(\n",
       "  (0): WeightDropout(\n",
       "    (module): LSTM(1150, 400, batch_first=True)\n",
       "  )\n",
       "  (1): RNNDropout()\n",
       "), Sequential(\n",
       "  (0): PoolingLinearClassifier(\n",
       "    (layers): Sequential(\n",
       "      (0): BatchNorm1d(1200, eps=1e-05, momentum=0.1, affine=True, track_running_stats=True)\n",
       "      (1): Dropout(p=0.2)\n",
       "      (2): Linear(in_features=1200, out_features=50, bias=True)\n",
       "      (3): ReLU(inplace)\n",
       "      (4): BatchNorm1d(50, eps=1e-05, momentum=0.1, affine=True, track_running_stats=True)\n",
       "      (5): Dropout(p=0.1)\n",
       "      (6): Linear(in_features=50, out_features=2, bias=True)\n",
       "    )\n",
       "  )\n",
       ")]), bptt=70, alpha=2.0, beta=1.0, adjust=False)], layer_groups=[Sequential(\n",
       "  (0): Embedding(19022, 400, padding_idx=1)\n",
       "  (1): EmbeddingDropout(\n",
       "    (emb): Embedding(19022, 400, padding_idx=1)\n",
       "  )\n",
       "), Sequential(\n",
       "  (0): WeightDropout(\n",
       "    (module): LSTM(400, 1150, batch_first=True)\n",
       "  )\n",
       "  (1): RNNDropout()\n",
       "), Sequential(\n",
       "  (0): WeightDropout(\n",
       "    (module): LSTM(1150, 1150, batch_first=True)\n",
       "  )\n",
       "  (1): RNNDropout()\n",
       "), Sequential(\n",
       "  (0): WeightDropout(\n",
       "    (module): LSTM(1150, 400, batch_first=True)\n",
       "  )\n",
       "  (1): RNNDropout()\n",
       "), Sequential(\n",
       "  (0): PoolingLinearClassifier(\n",
       "    (layers): Sequential(\n",
       "      (0): BatchNorm1d(1200, eps=1e-05, momentum=0.1, affine=True, track_running_stats=True)\n",
       "      (1): Dropout(p=0.2)\n",
       "      (2): Linear(in_features=1200, out_features=50, bias=True)\n",
       "      (3): ReLU(inplace)\n",
       "      (4): BatchNorm1d(50, eps=1e-05, momentum=0.1, affine=True, track_running_stats=True)\n",
       "      (5): Dropout(p=0.1)\n",
       "      (6): Linear(in_features=50, out_features=2, bias=True)\n",
       "    )\n",
       "  )\n",
       ")])"
      ]
     },
     "execution_count": 158,
     "metadata": {},
     "output_type": "execute_result"
    }
   ],
   "source": [
    "learn.load('/data1/user/fit_class_1')"
   ]
  },
  {
   "cell_type": "code",
   "execution_count": 159,
   "metadata": {},
   "outputs": [
    {
     "data": {
      "text/html": [
       "<div>\n",
       "<style scoped>\n",
       "    .dataframe tbody tr th:only-of-type {\n",
       "        vertical-align: middle;\n",
       "    }\n",
       "\n",
       "    .dataframe tbody tr th {\n",
       "        vertical-align: top;\n",
       "    }\n",
       "\n",
       "    .dataframe thead th {\n",
       "        text-align: right;\n",
       "    }\n",
       "</style>\n",
       "<table border=\"1\" class=\"dataframe\">\n",
       "  <thead>\n",
       "    <tr style=\"text-align: right;\">\n",
       "      <th>col_0</th>\n",
       "      <th>0</th>\n",
       "      <th>1</th>\n",
       "    </tr>\n",
       "    <tr>\n",
       "      <th>row_0</th>\n",
       "      <th></th>\n",
       "      <th></th>\n",
       "    </tr>\n",
       "  </thead>\n",
       "  <tbody>\n",
       "    <tr>\n",
       "      <th>0</th>\n",
       "      <td>1153</td>\n",
       "      <td>159</td>\n",
       "    </tr>\n",
       "    <tr>\n",
       "      <th>1</th>\n",
       "      <td>298</td>\n",
       "      <td>24336</td>\n",
       "    </tr>\n",
       "  </tbody>\n",
       "</table>\n",
       "</div>"
      ],
      "text/plain": [
       "col_0     0      1\n",
       "row_0             \n",
       "0      1153    159\n",
       "1       298  24336"
      ]
     },
     "execution_count": 159,
     "metadata": {},
     "output_type": "execute_result"
    }
   ],
   "source": [
    "#Get validation predictions\n",
    "preds, targets = learn.get_preds(ds_type=DatasetType.Valid,ordered=True)\n",
    "\n",
    "predictions = np.argmax(preds, axis = 1)\n",
    "pd.crosstab(predictions, targets)"
   ]
  },
  {
   "cell_type": "code",
   "execution_count": 160,
   "metadata": {},
   "outputs": [
    {
     "data": {
      "text/plain": [
       "0.826490196669432"
      ]
     },
     "execution_count": 160,
     "metadata": {},
     "output_type": "execute_result"
    }
   ],
   "source": [
    "from sklearn.metrics import matthews_corrcoef\n",
    "matthews_corrcoef(targets, predictions)  "
   ]
  },
  {
   "cell_type": "code",
   "execution_count": null,
   "metadata": {
    "collapsed": true
   },
   "outputs": [],
   "source": []
  }
 ],
 "metadata": {
  "kernelspec": {
   "display_name": "Python 3",
   "language": "python",
   "name": "python3"
  },
  "language_info": {
   "codemirror_mode": {
    "name": "ipython",
    "version": 3
   },
   "file_extension": ".py",
   "mimetype": "text/x-python",
   "name": "python",
   "nbconvert_exporter": "python",
   "pygments_lexer": "ipython3",
   "version": "3.7.3"
  }
 },
 "nbformat": 4,
 "nbformat_minor": 2
}
